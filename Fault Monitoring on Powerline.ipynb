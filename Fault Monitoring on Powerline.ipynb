{
 "cells": [
  {
   "cell_type": "code",
   "execution_count": 2,
   "metadata": {
    "id": "nu7AHcqyRuh8"
   },
   "outputs": [
    {
     "name": "stdout",
     "output_type": "stream",
     "text": [
      "Requirement already satisfied: pandapower in /media/mano/D/medical-image-captionning/medi_venv/medi/lib/python3.10/site-packages (2.14.6)\n",
      "Requirement already satisfied: pandas>=1.0 in /media/mano/D/medical-image-captionning/medi_venv/medi/lib/python3.10/site-packages (from pandapower) (1.4.1)\n",
      "Requirement already satisfied: networkx>=2.5 in /media/mano/D/medical-image-captionning/medi_venv/medi/lib/python3.10/site-packages (from pandapower) (3.3)\n",
      "Requirement already satisfied: scipy in /media/mano/D/medical-image-captionning/medi_venv/medi/lib/python3.10/site-packages (from pandapower) (1.8.0)\n",
      "Requirement already satisfied: numpy in /media/mano/D/medical-image-captionning/medi_venv/medi/lib/python3.10/site-packages (from pandapower) (1.24.4)\n",
      "Requirement already satisfied: packaging in /media/mano/D/medical-image-captionning/medi_venv/medi/lib/python3.10/site-packages (from pandapower) (21.3)\n",
      "Requirement already satisfied: tqdm in /media/mano/D/medical-image-captionning/medi_venv/medi/lib/python3.10/site-packages (from pandapower) (4.63.0)\n",
      "Requirement already satisfied: deepdiff in /media/mano/D/medical-image-captionning/medi_venv/medi/lib/python3.10/site-packages (from pandapower) (7.0.1)\n",
      "Requirement already satisfied: python-dateutil>=2.8.1 in /media/mano/D/medical-image-captionning/medi_venv/medi/lib/python3.10/site-packages (from pandas>=1.0->pandapower) (2.8.2)\n",
      "Requirement already satisfied: pytz>=2020.1 in /media/mano/D/medical-image-captionning/medi_venv/medi/lib/python3.10/site-packages (from pandas>=1.0->pandapower) (2021.3)\n",
      "Requirement already satisfied: ordered-set<4.2.0,>=4.1.0 in /media/mano/D/medical-image-captionning/medi_venv/medi/lib/python3.10/site-packages (from deepdiff->pandapower) (4.1.0)\n",
      "Requirement already satisfied: pyparsing!=3.0.5,>=2.0.2 in /media/mano/D/medical-image-captionning/medi_venv/medi/lib/python3.10/site-packages (from packaging->pandapower) (3.0.7)\n",
      "Requirement already satisfied: six>=1.5 in /media/mano/D/medical-image-captionning/medi_venv/medi/lib/python3.10/site-packages (from python-dateutil>=2.8.1->pandas>=1.0->pandapower) (1.16.0)\n"
     ]
    }
   ],
   "source": [
    "import sys\n",
    "import warnings\n",
    "warnings.filterwarnings('ignore')\n",
    "!{sys.executable} -m pip install pandapower"
   ]
  },
  {
   "cell_type": "markdown",
   "metadata": {
    "id": "PuGCUjX-qb8w"
   },
   "source": [
    "## Initial AC power flow Model for IEEE 30 System"
   ]
  },
  {
   "cell_type": "code",
   "execution_count": 3,
   "metadata": {
    "id": "SFBp36--TbT1"
   },
   "outputs": [],
   "source": [
    "import pandapower as pp\n",
    "import pandas as pd\n",
    "import random\n",
    "import pandapower.networks as pn\n",
    "import numpy as np\n",
    "from sklearn.utils import shuffle\n",
    "import torch\n",
    "net = pn.case_ieee30()\n",
    "pp.runpp(net,numba=False) # Solve initial power flow\n",
    "V = net.res_bus.vm_pu  # Voltage magnitudes\n",
    "theta = net.res_bus.va_degree  # Voltage angles\n",
    "num_buses = len(net.bus)\n",
    "dataset = pd.DataFrame(columns=[f\"V{i}\" for i in range(1, num_buses + 1)] +\n",
    "                          [f\"theta{i}\" for i in range(1, num_buses + 1)] +\n",
    "                          [ \"label\"])\n",
    "\n"
   ]
  },
  {
   "cell_type": "markdown",
   "metadata": {
    "id": "Q-u2_1EoqjcW"
   },
   "source": [
    "\n",
    "## Steps to Generate dataset\n",
    "\n",
    "\n",
    "1.   Simulating Line deletions\n",
    "2.   Changing the load of network\n",
    "3.   Solve power flow for modified system\n",
    "4.   Extract features for modified system\n",
    "5.   Calculate deviations from initial state\n",
    "6.   Create feature vector and label\n",
    "7.   Add noise to voltage and angle measurements\n",
    "8.   Append to dataset\n",
    "9.   Restore lines and load  for next iteration\n",
    "10.  At end of iteration, export the dataset to csv file.\n",
    "\n",
    "\n",
    "\n",
    "\n",
    "\n"
   ]
  },
  {
   "cell_type": "code",
   "execution_count": null,
   "metadata": {
    "id": "YaM-WrYqEhVW"
   },
   "outputs": [],
   "source": [
    "while len(dataset) < 35000:\n",
    "\n",
    "    for line_id in net.line.index:\n",
    "        if(len(dataset) > 1000):\n",
    "            net.line.loc[line_id, \"in_service\"] = False\n",
    "        load_factor = random.uniform(0.8, 1.2)\n",
    "        net.load.scaling = load_factor\n",
    "        pp.runpp(net,numba=False)\n",
    "\n",
    "        V_prime = net.res_bus.vm_pu\n",
    "        theta_prime = net.res_bus.va_degree\n",
    "\n",
    "        dV = V_prime - V\n",
    "        dtheta = theta_prime - theta\n",
    "\n",
    "        data_point = pd.Series({**{f\"V{i}\": dV[i - 1] for i in range(1, num_buses + 1)},\n",
    "                                  **{f\"theta{i}\": dtheta[i - 1] for i in range(1, num_buses + 1)},\n",
    "                                  **{\"label\": line_id}})  \n",
    "\n",
    "        dV += np.random.normal(scale=0.01, size=dV.shape)\n",
    "        dtheta += np.random.normal(scale=0.01, size=dtheta.shape)\n",
    "\n",
    "        dataset = dataset.append(data_point, ignore_index=True)\n",
    "        \n",
    "        if(len(dataset) > 1000):\n",
    "            net.line.loc[line_id, \"in_service\"] = True\n",
    "        net.load.scaling /= load_factor\n",
    "\n",
    "\n",
    "dataset=shuffle(dataset)\n",
    "dataset.to_csv(\"single_line.csv\", index=False)"
   ]
  },
  {
   "cell_type": "code",
   "execution_count": 418,
   "metadata": {
    "colab": {
     "base_uri": "https://localhost:8080/"
    },
    "id": "iBAY_PIVMUqW",
    "outputId": "107daf7b-2ce6-4efe-ea2e-fbdbd5667c47"
   },
   "outputs": [
    {
     "data": {
      "text/plain": [
       "This pandapower network includes the following parameter tables:\n",
       "   - bus (30 element)\n",
       "   - load (21 element)\n",
       "   - gen (5 element)\n",
       "   - shunt (2 element)\n",
       "   - ext_grid (1 elements)\n",
       "   - line (34 element)\n",
       "   - trafo (7 element)\n",
       "   - poly_cost (6 element)\n",
       "   - bus_geodata (30 element)\n",
       " and the following results tables:\n",
       "   - res_bus (30 element)\n",
       "   - res_line (34 element)\n",
       "   - res_trafo (7 element)\n",
       "   - res_ext_grid (1 elements)\n",
       "   - res_load (21 element)\n",
       "   - res_shunt (2 element)\n",
       "   - res_gen (5 element)"
      ]
     },
     "execution_count": 418,
     "metadata": {},
     "output_type": "execute_result"
    }
   ],
   "source": [
    "net"
   ]
  },
  {
   "cell_type": "code",
   "execution_count": null,
   "metadata": {
    "id": "NPS4rXgX1bvI"
   },
   "outputs": [],
   "source": [
    "df = pd.read_csv(\"single_line.csv\")\n",
    "df.head()"
   ]
  },
  {
   "cell_type": "markdown",
   "metadata": {
    "id": "iX2q6KWAvljf"
   },
   "source": [
    "## Modelling"
   ]
  },
  {
   "cell_type": "code",
   "execution_count": 372,
   "metadata": {
    "id": "XpH1yPNzYqGD"
   },
   "outputs": [],
   "source": [
    "import pandas as pd\n",
    "from sklearn.utils import shuffle\n",
    "from sklearn.model_selection import train_test_split  # For splitting into training and validation sets\n",
    "data = pd.read_csv(\"single_line.csv\")\n",
    "X_train, X_test, y_train, y_test = train_test_split(data.drop(\"label\", axis=1), data[\"label\"], test_size=0.2)\n",
    "\n"
   ]
  },
  {
   "cell_type": "code",
   "execution_count": 387,
   "metadata": {
    "colab": {
     "base_uri": "https://localhost:8080/"
    },
    "id": "90N1slNQy7yW",
    "outputId": "c9a40460-48ea-48ab-fdbf-1390de795399"
   },
   "outputs": [
    {
     "name": "stdout",
     "output_type": "stream",
     "text": [
      "Features rows: 28016\n",
      "Labels rows: 28016\n"
     ]
    }
   ],
   "source": [
    "print('Features rows:', X_train.shape[0])\n",
    "print('Labels rows:', y_train.shape[0])\n"
   ]
  },
  {
   "cell_type": "code",
   "execution_count": 386,
   "metadata": {
    "id": "vkyvxEA-FIz9"
   },
   "outputs": [],
   "source": [
    "X_train.fillna(0,inplace=True)\n",
    "y_train.fillna(0,inplace=True)"
   ]
  },
  {
   "cell_type": "code",
   "execution_count": null,
   "metadata": {
    "id": "lQXBvFunI3k-"
   },
   "outputs": [],
   "source": [
    "X_train_array = X_train.values\n",
    "X_train_tensor = torch.from_numpy(X_train_array)\n",
    "X_train_tensor = X_train_tensor.float().to(\"cuda\" if torch.cuda.is_available() else \"cpu\")\n",
    "y_train_array = y_train.values\n",
    "y_train_tensor = torch.from_numpy(y_train)\n",
    "y_train_tensor = y_train_tensor.float().to(\"cuda\" if torch.cuda.is_available() else \"cpu\")"
   ]
  },
  {
   "cell_type": "code",
   "execution_count": 502,
   "metadata": {
    "id": "-GQIaN_AXzda"
   },
   "outputs": [],
   "source": [
    "\n",
    "X_test_array = X_test.values\n",
    "X_test_tensor = torch.from_numpy(X_test_array)\n",
    "X_test_tensor = X_test_tensor.float().to(\"cuda\" if torch.cuda.is_available() else \"cpu\")\n",
    "y_test_array = y_test.values\n",
    "y_test_tensor = torch.from_numpy(y_test_array)\n",
    "y_test_tensor = y_test_tensor.float().to(\"cuda\" if torch.cuda.is_available() else \"cpu\")"
   ]
  },
  {
   "cell_type": "code",
   "execution_count": 437,
   "metadata": {
    "colab": {
     "base_uri": "https://localhost:8080/"
    },
    "id": "x7MheaB2K06l",
    "outputId": "2234e8ac-d00d-4cc7-f911-ecca331742d2"
   },
   "outputs": [
    {
     "data": {
      "text/plain": [
       "torch.Size([28016, 60])"
      ]
     },
     "execution_count": 437,
     "metadata": {},
     "output_type": "execute_result"
    }
   ],
   "source": [
    "X_train.shape"
   ]
  },
  {
   "cell_type": "code",
   "execution_count": 459,
   "metadata": {
    "id": "xfoKxSV29EYp"
   },
   "outputs": [],
   "source": [
    "import torch\n",
    "import torch.nn as nn\n",
    "import torch.nn.functional as F\n",
    "import torch.optim as optim\n",
    "from torch.utils.data import DataLoader\n",
    "torch.manual_seed(42)"
   ]
  },
  {
   "cell_type": "code",
   "execution_count": 460,
   "metadata": {
    "id": "Z-evBwiMOvjk"
   },
   "outputs": [],
   "source": [
    "n_inputs = X_train.shape[1]\n",
    "num_classes = 34\n"
   ]
  },
  {
   "cell_type": "code",
   "execution_count": 523,
   "metadata": {
    "id": "_9MsRRL6RW6c"
   },
   "outputs": [],
   "source": [
    "class MultinomialLogisticRegression(nn.Module):\n",
    "    def __init__(self, input_dim, num_classes):\n",
    "        super(MultinomialLogisticRegression, self).__init__()\n",
    "        self.linear = nn.Linear(input_dim, num_classes)\n",
    "\n",
    "    def forward(self, x):\n",
    "        logits = self.linear(x)\n",
    "        return F.log_softmax(logits, dim=1)  \n",
    "\n",
    "model = MultinomialLogisticRegression(n_inputs,num_classes).to(\"cuda\" if torch.cuda.is_available() else \"cpu\")\n",
    "output = model(X_train_tensor)"
   ]
  },
  {
   "cell_type": "code",
   "execution_count": null,
   "metadata": {
    "id": "MXC7dEQXRW3t"
   },
   "outputs": [],
   "source": [
    "criterion = torch.nn.CrossEntropyLoss()\n",
    "optimizer = torch.optim.Adam(model.parameters(), lr=0.0002)\n",
    "\n",
    "for epoch in range(10):\n",
    "    running_loss = 0.0\n",
    "\n",
    "\n",
    "    for i in range(len(X_train_tensor)):\n",
    "        inputs = X_train_tensor[i]\n",
    "        labels = y_train_tensor[i]\n",
    "        optimizer.zero_grad()\n",
    "        outputs = model(inputs.unsqueeze(0))\n",
    "        loss = criterion(outputs, labels.unsqueeze(0).long())\n",
    "        loss.backward()\n",
    "        optimizer.step()\n",
    "        running_loss += loss.item()\n",
    "        if i % 200 == 199:\n",
    "            print(f'[{epoch + 1}, {i + 1:5d}] loss: {running_loss / 200:.3f}')\n",
    "            running_loss = 0.0\n",
    "\n",
    "print('Finished Training')"
   ]
  },
  {
   "cell_type": "code",
   "execution_count": 531,
   "metadata": {
    "colab": {
     "base_uri": "https://localhost:8080/"
    },
    "id": "2n_q28euRW04",
    "outputId": "e3a6bab9-c165-4bbd-de64-51c449d0d29c"
   },
   "outputs": [
    {
     "name": "stdout",
     "output_type": "stream",
     "text": [
      "Accuracy of the network on the  test dataset : 99 %\n"
     ]
    }
   ],
   "source": [
    "correct = 0\n",
    "total = 0\n",
    "\n",
    "with torch.no_grad():\n",
    "    for i in range(len(X_test_tensor)):\n",
    "        inputs = X_test_tensor[i]\n",
    "        labels = y_test_tensor[i]\n",
    "        outputs = model(inputs.unsqueeze(0))\n",
    "        _, predicted = torch.max(outputs.data, 1)\n",
    "        total += labels.unsqueeze(0).size(0)\n",
    "        correct += (predicted == labels).sum().item()\n",
    "        accuracy = 100 * correct // total\n",
    "\n",
    "\n",
    "print(f'Accuracy of the network on the  test dataset : {accuracy} %')"
   ]
  },
  {
   "cell_type": "code",
   "execution_count": 567,
   "metadata": {
    "colab": {
     "base_uri": "https://localhost:8080/"
    },
    "id": "sGVdwMAQpqC_",
    "outputId": "9eda5582-8049-4e94-83fa-edd99cb3e87c"
   },
   "outputs": [
    {
     "data": {
      "text/plain": [
       "28016"
      ]
     },
     "execution_count": 567,
     "metadata": {},
     "output_type": "execute_result"
    }
   ],
   "source": [
    "y_train_tensor.shape[0]"
   ]
  },
  {
   "cell_type": "code",
   "execution_count": 575,
   "metadata": {
    "colab": {
     "base_uri": "https://localhost:8080/"
    },
    "id": "e6TM6rfVlYkF",
    "outputId": "d49c203f-05e8-4af0-89c5-4143681dd291"
   },
   "outputs": [
    {
     "name": "stdout",
     "output_type": "stream",
     "text": [
      "Predicted outage line: Line 17\n",
      "Actual outage line:     Line 17\n"
     ]
    }
   ],
   "source": [
    "sample_index = np.random.randint(1,y_test_tensor.shape[0])\n",
    "inputs = X_test_tensor[sample_index]\n",
    "output = model(inputs.unsqueeze(0))\n",
    "predicted_outage_index = output.argmax()\n",
    "\n",
    "line_labels = [\"Line 1\", \"Line 2\", \"Line 3\",\"Line 4\",\"Line 5\",\n",
    "               \"Line 6\",\"Line 7\", \"Line 8\",\"Line 9\", \"Line 10\",\n",
    "               \"Line 11\",\"Line 12\", \"Line 13\",\"Line 14\", \"Line 15\",\n",
    "               \"Line 16\",\"Line 17\", \"Line 18\",\"Line 19\", \"Line 20\",\n",
    "               \"Line 21\",\"Line 22\", \"Line 23\",\"Line 24\", \"Line 25\",\n",
    "               \"Line 26\",\"Line 27\", \"Line 28\",\"Line 29\", \"Line 30\",\n",
    "               \"Line 31\",\"Line 32\", \"Line 33\",\"Line 34\"]\n",
    "\n",
    "predicted_outage_line = line_labels[predicted_outage_index]\n",
    "\n",
    "actual_outage_index = int(y_test_tensor[sample_index].item())\n",
    "actual_outage_line = line_labels[actual_outage_index]\n",
    "\n",
    "\n",
    "print(f\"Predicted outage line: {predicted_outage_line}\")\n",
    "print(f\"Actual outage line:     {actual_outage_line}\")"
   ]
  },
  {
   "cell_type": "code",
   "execution_count": null,
   "metadata": {
    "id": "WyeSscXeoxve"
   },
   "outputs": [],
   "source": []
  }
 ],
 "metadata": {
  "colab": {
   "provenance": []
  },
  "kernelspec": {
   "display_name": "medi",
   "language": "python",
   "name": "medi"
  },
  "language_info": {
   "codemirror_mode": {
    "name": "ipython",
    "version": 3
   },
   "file_extension": ".py",
   "mimetype": "text/x-python",
   "name": "python",
   "nbconvert_exporter": "python",
   "pygments_lexer": "ipython3",
   "version": "3.10.12"
  }
 },
 "nbformat": 4,
 "nbformat_minor": 1
}
